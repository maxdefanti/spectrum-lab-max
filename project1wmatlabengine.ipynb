{
 "cells": [
  {
   "cell_type": "code",
   "execution_count": 5,
   "metadata": {},
   "outputs": [],
   "source": [
    "import math\n",
    "import numpy as np\n",
    "import cv2 as cv\n",
    "from numpy.linalg import inv"
   ]
  },
  {
   "cell_type": "markdown",
   "metadata": {},
   "source": [
    "1. Copy all pixel values with colors within a specified range to a 3d array with x position y position and color value as white while leaving all other points black. This array is then written into an image."
   ]
  },
  {
   "cell_type": "code",
   "execution_count": null,
   "metadata": {},
   "outputs": [],
   "source": [
    "import numpy as np\n",
    "import cv2 as cv\n",
    "\n",
    "img = cv.imread('IMG_8617 (1).jpeg') # image to look at\n",
    "img = cv.cvtColor(img, cv.COLOR_RGB2BGR)\n",
    "\n",
    "im2write = np.zeros((1080,1920,3))\n",
    "\n",
    "for x in range(1080):\n",
    "   for y in range(1920):\n",
    "           if((img[x][y][0] > 40 and img[x][y][0] < 110) and (img[x][y][1] > 40 and img[x][y][1] < 110) and (img[x][y][2] > 40 and img[x][y][2] < 110)):\n",
    "                im2write[x][y][0] = 255\n",
    "                im2write[x][y][0] = 255\n",
    "                im2write[x][y][0] = 255\n",
    "            \n",
    "\n",
    "cv.imwrite('result5.png', im2write) # if you want filtered output image"
   ]
  },
  {
   "cell_type": "markdown",
   "metadata": {},
   "source": [
    "2. filter excess noise using either an external program or a function that needs to be coded"
   ]
  },
  {
   "cell_type": "markdown",
   "metadata": {},
   "source": [
    "3. Apply a hough line transform to the filtered image of the shadow, and remove excess lines"
   ]
  },
  {
   "cell_type": "code",
   "execution_count": 6,
   "metadata": {},
   "outputs": [],
   "source": [
    "# Read image\n",
    "image = cv.imread('bw2.png') # put a path to your image here\n",
    "gray = cv.cvtColor(image,cv.COLOR_BGR2GRAY)\n",
    " \n",
    "# Use canny edge detection\n",
    "edges = cv.Canny(gray,30,150,apertureSize=3)\n",
    " \n",
    "# Obtain line end points\n",
    "lines_list =[]\n",
    "lines = cv.HoughLinesP(edges, 1, np.pi/180, threshold=150, minLineLength=30, maxLineGap=200)\n",
    "\n",
    "cleans = np.empty(shape=[0,4], dtype=np.int32) # remove overlapping lines from HoughLines\n",
    "\n",
    "for l in lines:\n",
    "        \n",
    "        # manually extending length of lines so that they all intersect, x can be altered \n",
    "\n",
    "        x = 50\n",
    "\n",
    "        x0 = l[0][0]\n",
    "        y0 = l[0][1]\n",
    "        x1 = l[0][2]\n",
    "        y1 = l[0][3]\n",
    "\n",
    "        linSlope = (y1 - y0)/(x1 - x0)\n",
    "        \n",
    "        if x0 < x1:\n",
    "             l[0][0] = x0 - x\n",
    "             l[0][2] = x1 + x\n",
    "        if x0 > x1: \n",
    "             l[0][0] = x0 + x\n",
    "             l[0][2] = x0 - x\n",
    "\n",
    "        if y0 < y1:\n",
    "             l[0][1] = y0 - linSlope*(x)\n",
    "             l[0][3] = y1 + linSlope*(x)\n",
    "        if y0 > y1:\n",
    "             l[0][1] = y0 - linSlope*(x)\n",
    "             l[0][3] = y1 + linSlope*(x)\n",
    "\n",
    "        # removing lines that are within 3.5 degrees of another and start and end within 30 pixels of one another, can be adjusted based on setup\n",
    "\n",
    "        alfa = np.degrees(np.arctan2(l[0][2]-l[0][0], l[0][3]-l[0][1]))\n",
    "\n",
    "        if len(cleans) == 0:\n",
    "            cleans = np.append(cleans, [l[0]], axis=0)\n",
    "            continue\n",
    "\n",
    "        similar = False\n",
    "        for c in cleans:\n",
    "            beta = np.degrees(np.atan2(c[2]-c[0], c[3]-c[1]))\n",
    "            other = False\n",
    "            for d in cleans:\n",
    "                 if(abs(l[0][0] - d[0]) <= 30 and abs(l[0][1] - d[1] <= 30) and abs(l[0][2] - d[2]) <= 30 and abs(l[0][3] - d[3] <= 30)):\n",
    "                      other = True\n",
    "            if abs(alfa-beta) <= 3.5 and other:\n",
    "                similar = True\n",
    "                other = False\n",
    "                break\n",
    "\n",
    "        if not similar:\n",
    "            cleans = np.append(cleans, [l[0]], axis=0)\n",
    "            \n",
    "\n",
    "for line in [cleans]:\n",
    "    for x1,y1,x2,y2 in line:\n",
    "        cv.line(image,(x1,y1),(x2,y2),(0,0,255),2)\n"
   ]
  },
  {
   "cell_type": "markdown",
   "metadata": {},
   "source": [
    "3. Construct line objects from line segment endpoints. Then corner objects are created if the line segments intersect."
   ]
  },
  {
   "cell_type": "code",
   "execution_count": 7,
   "metadata": {},
   "outputs": [],
   "source": [
    "def distanceForm(x1, y1, x2, y2):\n",
    "     return '{0:.4f}'.format(math.sqrt((x1 - x2)**2 + (y1 - y2)**2))\n",
    "\n",
    "class Line:\n",
    "    \n",
    "    def __init__(self, x0, y0, x1, y1):\n",
    "        self.x0 = x0\n",
    "        self.y0 = y0\n",
    "        self.x1 = x1\n",
    "        self.y1 = y1\n",
    "        self.slope = float((y1 - y0)/(x1 - x0))\n",
    "        self.theta = math.atan((y1-y0)/(x1-x0))\n",
    "        self.r = math.dist([x0,y0],[x1,y1])\n",
    "        self.intercept = y0 - self.slope*x0\n",
    "\n",
    "    def __str__(self):\n",
    "        return (\"radius: \" + str(self.r) + \" theta: \" + \"{:.2f}\".format(self.theta*180/math.pi) + \" degrees\")\n",
    "\n",
    "    def getx0(self):\n",
    "         return self.x0\n",
    "    \n",
    "    def gety0(self):\n",
    "         return self.y0\n",
    "    \n",
    "    def getx1(self):\n",
    "         return self.x1\n",
    "    \n",
    "    def gety1(self):\n",
    "         return self.y1\n",
    "    \n",
    "    def getSlope(self):\n",
    "        return self.slope\n",
    "   \n",
    "    def getTheta(self):\n",
    "        return self.theta\n",
    "    \n",
    "    def getR(self):\n",
    "        return self.r\n",
    "    \n",
    "    def getInter(self):\n",
    "         return self.intercept\n",
    "\n",
    "\n",
    "class intersectPoint:\n",
    "        \n",
    "        def __init__(self, l1, l2):\n",
    "            \n",
    "             self.l1 = l1\n",
    "             self.l2 = l2\n",
    "             self.line1 = Line(self.l1.getx0(),self.l1.gety0(),self.l1.getx1(),self.l1.gety1())\n",
    "             self.line2 = Line(self.l2.getx0(),self.l2.gety0(),self.l2.getx1(),self.l2.gety1())\n",
    "             self.poi = None \n",
    "             self.angle = None\n",
    "             self.isCorner = False\n",
    "\n",
    "             self.xends1 = [self.line1.getx0(), self.line1.getx1()]\n",
    "             self.yends1 = [self.line1.gety0(), self.line1.gety1()]\n",
    "             self.xends2 = [self.line2.getx0(), self.line2.getx1()]\n",
    "             self.yends2 = [self.line2.gety0(), self.line2.gety1()]\n",
    "             \n",
    "             refA = np.array([[1., float(-1*self.line1.getSlope())], [1., float(-1*self.line2.getSlope())]])\n",
    "             refS = np.array([[self.line1.getInter()],[self.line2.getInter()]])\n",
    "             refInv = np.linalg.inv(refA)\n",
    "             point = np.matmul(refInv, refS)\n",
    "             self.theoPoi = point\n",
    "\n",
    "\n",
    "\n",
    "             if(point[1] >= min(self.xends1) and point[1] <= max(self.xends1) and point[0] >= min(self.yends1) and point[0] <= max(self.yends1) and point[1] >= min(self.xends2) and point[1] <= max(self.xends2) and point[0] >= min(self.yends2) and point[0] <= max(self.yends2)):\n",
    "            \n",
    "                self.poi = point\n",
    "                self.angle =  abs(self.l1.getTheta()-self.l2.getTheta())\n",
    "                self.isCorner = True\n",
    "\n",
    "\n",
    "        def __str__(self):\n",
    "             return(self.line1, self.line2)\n",
    "        \n",
    "        def getLine1(self):\n",
    "             return self.line1\n",
    "        \n",
    "        def getLine2(self):\n",
    "             return self.line2\n",
    "        \n",
    "        def getPoi(self):\n",
    "                return self.poi\n",
    "        \n",
    "        def getAngle(self):\n",
    "                return self.angle\n",
    "        \n",
    "        def getAngleInDeg(self):\n",
    "             return self.angle*180/math.pi\n",
    "        \n",
    "        def getTheoPoi(self):\n",
    "             return self.theoPoi\n",
    "        \n",
    "        def getCorner(self):\n",
    "             return self.isCorner\n",
    "\n",
    "\n",
    "def lineListConstruct(pointsArr):     \n",
    "     rows, columns = pointsArr.shape \n",
    "     lineList = []\n",
    "     for i in range(rows):\n",
    "          newLine = Line(pointsArr[i][0], pointsArr[i][1], pointsArr[i][2], pointsArr[i][3])\n",
    "          lineList.append(newLine)\n",
    "     return lineList\n",
    "\n",
    "def intersectListConstruct(linesArr, k, storageArr = None, cornerArr = None):\n",
    "     if storageArr is None:\n",
    "          storageArr = [] \n",
    "     if cornerArr is None:\n",
    "          cornerArr = []\n",
    "     if (k == 1):\n",
    "          for e in range(len(storageArr)):\n",
    "               if storageArr[e].isCorner == True:\n",
    "                    cornerArr.append(storageArr[e])\n",
    "          return cornerArr\n",
    "          \n",
    "     else: \n",
    "          for i in range(len(linesArr) - 1):\n",
    "               newPoi = intersectPoint(linesArr[0], linesArr[i + 1]) \n",
    "               storageArr.append(newPoi)\n",
    "          k -= 1\n",
    "          return intersectListConstruct(linesArr[1:], k, storageArr, cornerArr)\n"
   ]
  },
  {
   "cell_type": "markdown",
   "metadata": {},
   "source": [
    "4. Convert endpoint data from hough lines image into a set of lines and corners."
   ]
  },
  {
   "cell_type": "code",
   "execution_count": 26,
   "metadata": {},
   "outputs": [],
   "source": [
    "lineList = []\n",
    "\n",
    "for e in cleans:\n",
    "    newList = [e[0], e[1], e[2], e[3]]\n",
    "    lineList.append(newList)\n",
    "\n",
    "\n",
    "lineArr = np.array(lineList)\n",
    "\n",
    "\n",
    "testSet = lineListConstruct(lineArr)\n",
    "testCornerSet = intersectListConstruct(testSet, len(testSet))"
   ]
  },
  {
   "cell_type": "markdown",
   "metadata": {},
   "source": [
    "Feel free to test functionality here"
   ]
  },
  {
   "cell_type": "code",
   "execution_count": 27,
   "metadata": {},
   "outputs": [
    {
     "name": "stdout",
     "output_type": "stream",
     "text": [
      "True\n",
      "False\n",
      "False\n",
      "True\n",
      "False\n",
      "False\n"
     ]
    }
   ],
   "source": [
    "def similarSet(c1, c2):\n",
    "    if abs(c1.getAngleInDeg() - c2.getAngleInDeg()) <= 5:\n",
    "        return True\n",
    "    else:\n",
    "        return False\n",
    "    \n",
    "for e in testCornerSet:\n",
    "    print(similarSet(testCornerSet[0], e))"
   ]
  },
  {
   "cell_type": "code",
   "execution_count": 69,
   "metadata": {},
   "outputs": [],
   "source": [
    "def similarCornerList(cornerSet, k=None, out=None):\n",
    "    if out is None:\n",
    "        out = []\n",
    "    if k is None:\n",
    "        k = len(cornerSet)\n",
    "\n",
    "    if(k == 1):\n",
    "        return out\n",
    "    \n",
    "    else:\n",
    "        for e in cornerSet[1:]:\n",
    "            if(similarSet(cornerSet[0], e) == True):\n",
    "                out.append((cornerSet[0].getPoi(), e.getPoi(), distanceForm(cornerSet[0].getPoi()[0], cornerSet[0].getPoi()[1], e.getPoi()[0], e.getPoi()[1])))\n",
    "\n",
    "        k -= 1\n",
    "        return similarCornerList(cornerSet[1:], k, out)\n",
    "    \n",
    "    \n",
    "\n"
   ]
  },
  {
   "cell_type": "code",
   "execution_count": 70,
   "metadata": {},
   "outputs": [
    {
     "name": "stdout",
     "output_type": "stream",
     "text": [
      "[(array([[655.61537794],\n",
      "       [590.38086753]]), array([[699.40228766],\n",
      "       [176.87661231]]), '415.8161'), (array([[183.73271052],\n",
      "       [908.03846804]]), array([[152.14769834],\n",
      "       [545.6420125 ]]), '363.7703'), (array([[ 985.36205096],\n",
      "       [1079.51915488]]), array([[1075.89357275],\n",
      "       [ 716.51412093]]), '374.1238')]\n"
     ]
    },
    {
     "name": "stderr",
     "output_type": "stream",
     "text": [
      "/var/folders/9r/k3ms4g2d4snb39037_z2v_rw0000gn/T/ipykernel_8177/4225617070.py:2: DeprecationWarning: Conversion of an array with ndim > 0 to a scalar is deprecated, and will error in future. Ensure you extract a single element from your array before performing this operation. (Deprecated NumPy 1.25.)\n",
      "  return '{0:.4f}'.format(math.sqrt((x1 - x2)**2 + (y1 - y2)**2))\n"
     ]
    }
   ],
   "source": [
    "test2 = similarCornerList(testCornerSet)\n",
    "print(test2)"
   ]
  },
  {
   "cell_type": "markdown",
   "metadata": {},
   "source": []
  }
 ],
 "metadata": {
  "kernelspec": {
   "display_name": ".venv",
   "language": "python",
   "name": "python3"
  },
  "language_info": {
   "codemirror_mode": {
    "name": "ipython",
    "version": 3
   },
   "file_extension": ".py",
   "mimetype": "text/x-python",
   "name": "python",
   "nbconvert_exporter": "python",
   "pygments_lexer": "ipython3",
   "version": "3.11.9"
  }
 },
 "nbformat": 4,
 "nbformat_minor": 2
}
